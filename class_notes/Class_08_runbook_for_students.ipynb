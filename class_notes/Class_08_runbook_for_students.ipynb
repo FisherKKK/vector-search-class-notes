{
 "cells": [
  {
   "cell_type": "code",
   "execution_count": null,
   "id": "6adb5788",
   "metadata": {},
   "outputs": [],
   "source": [
    "import time\n",
    "import numpy as np\n",
    "\n",
    "# requires Faiss to be installed, see \n",
    "# https://github.com/facebookresearch/faiss/blob/main/INSTALL.md#installing-faiss-via-conda\n",
    "# oh how to install the CPU version\n",
    "\n",
    "import faiss\n",
    "\n",
    "from faiss.contrib.datasets import SyntheticDataset\n",
    "\n",
    "from matplotlib import pyplot"
   ]
  },
  {
   "cell_type": "code",
   "execution_count": null,
   "id": "31018e88",
   "metadata": {},
   "outputs": [],
   "source": [
    "# setup that works for my machine. Adjust to yours \n",
    "faiss.omp_set_num_threads(32)\n",
    "\n",
    "%matplotlib inline\n",
    "%config InlineBackend.figure_format='retina'"
   ]
  },
  {
   "cell_type": "code",
   "execution_count": null,
   "id": "e823d6ca",
   "metadata": {},
   "outputs": [],
   "source": [
    "# get some data\n",
    "ds = SyntheticDataset(64, 1000_000, 10000, 100)\n",
    "print(ds)"
   ]
  },
  {
   "cell_type": "code",
   "execution_count": null,
   "id": "c660a6ee",
   "metadata": {},
   "outputs": [],
   "source": [
    "# get training set\n",
    "xt = ds.get_train()\n",
    "xt.shape"
   ]
  },
  {
   "cell_type": "code",
   "execution_count": null,
   "id": "e1ff2bf0",
   "metadata": {},
   "outputs": [],
   "source": [
    "d = ds.d"
   ]
  },
  {
   "cell_type": "markdown",
   "id": "d9d12999",
   "metadata": {},
   "source": [
    "# Run k-means "
   ]
  },
  {
   "cell_type": "code",
   "execution_count": null,
   "id": "be5b07a0",
   "metadata": {},
   "outputs": [],
   "source": [
    "# 4096 centroids \n",
    "km = faiss.Kmeans(ds.d, 4096)"
   ]
  },
  {
   "cell_type": "code",
   "execution_count": null,
   "id": "c6dfa79b",
   "metadata": {},
   "outputs": [],
   "source": [
    "%%time\n",
    "km.train(xt)"
   ]
  },
  {
   "cell_type": "code",
   "execution_count": null,
   "id": "e185e9ed",
   "metadata": {},
   "outputs": [],
   "source": [
    "centroids = km.centroids \n",
    "centroids.shape"
   ]
  },
  {
   "cell_type": "code",
   "execution_count": null,
   "id": "73149508",
   "metadata": {},
   "outputs": [],
   "source": [
    "MSE = km.obj[-1] / len(xt)\n",
    "MSE"
   ]
  },
  {
   "cell_type": "code",
   "execution_count": null,
   "id": "a85938b3",
   "metadata": {},
   "outputs": [],
   "source": [
    "pyplot.plot(km.obj / ds.nt)\n",
    "pyplot.ylabel(\"Mean Squared Error\")\n",
    "pyplot.xlabel(\"Iteration\")\n",
    "pyplot.grid()"
   ]
  },
  {
   "cell_type": "markdown",
   "id": "5d7dd70d",
   "metadata": {},
   "source": [
    "# Hierarchical k-means "
   ]
  },
  {
   "cell_type": "code",
   "execution_count": null,
   "id": "4252e712",
   "metadata": {},
   "outputs": [],
   "source": [
    "def recursive_run_kmeans(xt, k, level): \n",
    "    if level == 0: \n",
    "        # all vectors encoded to the same, compute MSE\n",
    "        centroid = xt.mean(axis=0)\n",
    "        s = ((xt - centroid) ** 2).sum()\n",
    "        return [centroid], s\n",
    "    else: \n",
    "        km = faiss.Kmeans(ds.d, k)\n",
    "        km.train(xt)\n",
    "        _, labels = km.assign(xt)\n",
    "        tot_sum = 0\n",
    "        centroids = []\n",
    "        for i in range(k): \n",
    "            subset = labels == i\n",
    "            cent_i, sum_i = recursive_run_kmeans(xt[subset], k, level - 1)\n",
    "            centroids += cent_i\n",
    "            tot_sum += sum_i \n",
    "        return centroids, tot_sum        "
   ]
  },
  {
   "cell_type": "code",
   "execution_count": null,
   "id": "deab4bdf",
   "metadata": {},
   "outputs": [],
   "source": [
    "%%time \n",
    "# 4096 = 8 ** 4\n",
    "cents, s = recursive_run_kmeans(xt, 8, 4)\n",
    "MSE = s / len(xt)\n",
    "MSE"
   ]
  },
  {
   "cell_type": "code",
   "execution_count": null,
   "id": "fc7a74ce",
   "metadata": {},
   "outputs": [],
   "source": [
    "%%time \n",
    "# 4096 = 64 ** 2\n",
    "cents, s = recursive_run_kmeans(xt, 64, 2)\n",
    "MSE = s / len(xt)\n",
    "MSE"
   ]
  },
  {
   "cell_type": "code",
   "execution_count": null,
   "id": "70c019a3",
   "metadata": {},
   "outputs": [],
   "source": [
    "# search from centroids directly \n",
    "\n",
    "D, _ = faiss.knn(xt, cents, k=1)\n",
    "MSE = D.mean()\n",
    "MSE"
   ]
  },
  {
   "cell_type": "markdown",
   "id": "aa4e76cd",
   "metadata": {},
   "source": [
    "## Searching in a vector database "
   ]
  },
  {
   "cell_type": "code",
   "execution_count": null,
   "id": "070a8371",
   "metadata": {},
   "outputs": [],
   "source": [
    "# the database and set of query vectors are arrays\n",
    "xq = ds.get_queries()\n",
    "xb = ds.get_database()"
   ]
  },
  {
   "cell_type": "code",
   "execution_count": null,
   "id": "a881bc56",
   "metadata": {},
   "outputs": [],
   "source": [
    "xq.shape"
   ]
  },
  {
   "cell_type": "code",
   "execution_count": null,
   "id": "e55a1ce7",
   "metadata": {},
   "outputs": [],
   "source": [
    "xb.shape"
   ]
  },
  {
   "cell_type": "markdown",
   "id": "3d8d787a",
   "metadata": {},
   "source": [
    "### Ground truth and the knn function"
   ]
  },
  {
   "cell_type": "code",
   "execution_count": null,
   "id": "328cdcce",
   "metadata": {},
   "outputs": [],
   "source": [
    "# find ground-truth nearest neighbors \n",
    "gt_dis, gt = faiss.knn(xq, xb, k=10)"
   ]
  },
  {
   "cell_type": "code",
   "execution_count": null,
   "id": "368cac81",
   "metadata": {},
   "outputs": [],
   "source": [
    "gt.shape"
   ]
  },
  {
   "cell_type": "code",
   "execution_count": null,
   "id": "2419d184",
   "metadata": {},
   "outputs": [],
   "source": [
    "gt[:3]"
   ]
  },
  {
   "cell_type": "code",
   "execution_count": null,
   "id": "ec4a0f9a",
   "metadata": {},
   "outputs": [],
   "source": [
    "gt_dis[:3]"
   ]
  },
  {
   "cell_type": "code",
   "execution_count": null,
   "id": "f611e072",
   "metadata": {},
   "outputs": [],
   "source": [
    "((xq[1] - xb[6558])**2).sum()"
   ]
  },
  {
   "cell_type": "markdown",
   "id": "b89accbb",
   "metadata": {},
   "source": [
    "# The inverted file "
   ]
  },
  {
   "cell_type": "code",
   "execution_count": null,
   "id": "dd8018b6",
   "metadata": {},
   "outputs": [],
   "source": [
    "nlist = 4096\n",
    "\n",
    "# compute IVF entries for database = find the nearest centroid for each database vector \n",
    "_, list_nos = faiss.knn(xb, centroids, k=1)\n",
    "list_nos = list_nos.flatten()"
   ]
  },
  {
   "cell_type": "code",
   "execution_count": null,
   "id": "ec84f3c3",
   "metadata": {},
   "outputs": [],
   "source": [
    "ivf_vectors = []\n",
    "ivf_ids = []\n",
    "\n",
    "for list_no in range(nlist): \n",
    "    ids = np.where(list_nos == list_no)[0]\n",
    "    ivf_ids.append(ids)\n",
    "    ivf_vectors.append(xb[ids])"
   ]
  },
  {
   "cell_type": "code",
   "execution_count": null,
   "id": "522a369f",
   "metadata": {},
   "outputs": [],
   "source": [
    "len(ivf_ids), len(ivf_vectors)"
   ]
  },
  {
   "cell_type": "code",
   "execution_count": null,
   "id": "81170e6b",
   "metadata": {},
   "outputs": [],
   "source": [
    "max(len(l) for l in ivf_ids)"
   ]
  },
  {
   "cell_type": "code",
   "execution_count": null,
   "id": "c6ef3af3",
   "metadata": {},
   "outputs": [],
   "source": [
    "min(len(l) for l in ivf_ids)"
   ]
  },
  {
   "cell_type": "code",
   "execution_count": null,
   "id": "31fbda29",
   "metadata": {},
   "outputs": [],
   "source": [
    "# searching in the nearest centroid \n",
    "_, q_list_nos = faiss.knn(xq, centroids, k=1)\n",
    "found_nns = []\n",
    "for q in range(100): \n",
    "    query = xq[q]\n",
    "    # fetch contents of cluster\n",
    "    cluster_vectors = ivf_vectors[q_list_nos[q, 0]]\n",
    "    cluster_ids = ivf_ids[q_list_nos[q, 0]]\n",
    "    if cluster_ids.size == 0: \n",
    "        found_nns.append(-1)\n",
    "        continue\n",
    "    # compute distances \n",
    "    distances = ((query - cluster_vectors)**2).sum(1)\n",
    "    # collect result id\n",
    "    result_id = cluster_ids[distances.argmin()]\n",
    "    found_nns.append(result_id)\n",
    "    "
   ]
  },
  {
   "cell_type": "code",
   "execution_count": null,
   "id": "84b46874",
   "metadata": {},
   "outputs": [],
   "source": [
    "(found_nns == gt[:, 0]).sum()"
   ]
  },
  {
   "cell_type": "markdown",
   "id": "b4ed63d2",
   "metadata": {},
   "source": [
    "That's not much. Maybe we need to explore more clusters?"
   ]
  },
  {
   "cell_type": "code",
   "execution_count": null,
   "id": "784a32aa",
   "metadata": {},
   "outputs": [],
   "source": [
    "nprobe = 13\n",
    "# searching in the nearest centroid \n",
    "_, q_list_nos = faiss.knn(xq, centroids, k=nprobe)\n",
    "found_nns = []\n",
    "ndis = 0\n",
    "for q in range(100): \n",
    "    query = xq[q]\n",
    "    # fetch contents of clusters \n",
    "    cluster_vectors = np.vstack([\n",
    "        ivf_vectors[i]\n",
    "        for i in q_list_nos[q]\n",
    "    ])\n",
    "    cluster_ids = np.hstack([\n",
    "        ivf_ids[i]\n",
    "        for i in q_list_nos[q]\n",
    "    ])\n",
    "    if cluster_ids.size == 0: \n",
    "        found_nns.append(-1)\n",
    "        continue\n",
    "    # compute distances \n",
    "    distances = ((query - cluster_vectors)**2).sum(1)\n",
    "    ndis += len(cluster_ids)\n",
    "    # collect result id\n",
    "    result_id = cluster_ids[distances.argmin()]\n",
    "    found_nns.append(result_id)"
   ]
  },
  {
   "cell_type": "code",
   "execution_count": null,
   "id": "40055f37",
   "metadata": {},
   "outputs": [],
   "source": [
    "(found_nns == gt[:, 0]).sum()"
   ]
  },
  {
   "cell_type": "code",
   "execution_count": null,
   "id": "3b06f0e5",
   "metadata": {},
   "outputs": [],
   "source": [
    "ndis / 100 "
   ]
  },
  {
   "cell_type": "markdown",
   "id": "f1d8b744",
   "metadata": {},
   "source": [
    "That's better, we computed just 106 distances on average per query (out of 10000)"
   ]
  },
  {
   "cell_type": "markdown",
   "id": "99729b82",
   "metadata": {},
   "source": [
    "## Inverted file in Faiss "
   ]
  },
  {
   "cell_type": "code",
   "execution_count": null,
   "id": "41a72316",
   "metadata": {},
   "outputs": [],
   "source": [
    "index = faiss.index_factory(d, \"IVF1024,Flat\") # flat means: don't encode the vectors!"
   ]
  },
  {
   "cell_type": "code",
   "execution_count": null,
   "id": "45727dbd",
   "metadata": {},
   "outputs": [],
   "source": [
    "index.train(xt)"
   ]
  },
  {
   "cell_type": "code",
   "execution_count": null,
   "id": "6415958b",
   "metadata": {},
   "outputs": [],
   "source": [
    "index.add(xb)"
   ]
  },
  {
   "cell_type": "code",
   "execution_count": null,
   "id": "cf2ae5c9",
   "metadata": {},
   "outputs": [],
   "source": [
    "D, I = index.search(xq, 10)"
   ]
  },
  {
   "cell_type": "code",
   "execution_count": null,
   "id": "14990831",
   "metadata": {},
   "outputs": [],
   "source": [
    "(I[:, 0] == gt[:, 0]).sum()"
   ]
  },
  {
   "cell_type": "code",
   "execution_count": null,
   "id": "10ee442a",
   "metadata": {},
   "outputs": [],
   "source": [
    "index.nprobe = 10\n",
    "D, I = index.search(xq, 10)\n",
    "(I[:, 0] == gt[:, 0]).sum()"
   ]
  },
  {
   "cell_type": "markdown",
   "id": "53cc6c5c",
   "metadata": {},
   "source": [
    "## Tradeoff speed / accuracy "
   ]
  },
  {
   "cell_type": "code",
   "execution_count": null,
   "id": "fc32eca0",
   "metadata": {},
   "outputs": [],
   "source": [
    "results = {}\n",
    "for nlist in 64, 256, 1024: \n",
    "    index = faiss.index_factory(d, f\"IVF{nlist},Flat\")\n",
    "    index.train(xt)\n",
    "    index.add(xb)\n",
    "    for nprobe in 1, 2, 4, 8, 16, 32, 64, 128:\n",
    "        if nprobe > nlist: \n",
    "            continue\n",
    "        index.nprobe = nprobe\n",
    "        t0 = time.time()\n",
    "        for run in range(100):   # several runs to get stable timings\n",
    "            D, I = index.search(xq, 10)\n",
    "        t1 = time.time() \n",
    "        recall = (I[:, 0] == gt[:, 0]).sum()\n",
    "        print(f\"{nlist=:} {nprobe=:} {recall=:} time={(t1 - t0) * 1000 :.3f} ms\")\n",
    "        results[(nlist, nprobe)] = (recall, (t1 - t0) * 1000)\n",
    "        "
   ]
  },
  {
   "cell_type": "code",
   "execution_count": null,
   "id": "9c492714",
   "metadata": {},
   "outputs": [],
   "source": [
    "for nlist in 64, 256, 1024: \n",
    "    index = faiss.index_factory(d, f\"IVF{nlist},Flat\")\n",
    "    index.train(xt)\n",
    "    index.add(xb)\n",
    "    res = [results[(nlist, nprobe)] for nprobe in [1, 2, 4, 8, 16, 32, 64, 128] if nprobe < nlist]\n",
    "    recalls = [r[0] for r in res]\n",
    "    times = [r[1] for r in res]\n",
    "    pyplot.plot(recalls, times, label=f\"{nlist=:}\")\n",
    "\n",
    "pyplot.ylabel(\"time (ms)\")\n",
    "pyplot.xlabel(\"R@1\")\n",
    "pyplot.legend()\n",
    "pyplot.grid()\n",
    "    "
   ]
  },
  {
   "cell_type": "markdown",
   "id": "7b3f90f5",
   "metadata": {},
   "source": [
    "## Search cost as a function of the database size "
   ]
  },
  {
   "cell_type": "code",
   "execution_count": null,
   "id": "9b0f60b6",
   "metadata": {},
   "outputs": [],
   "source": [
    "ns = 2 ** np.arange(10, 25)\n",
    "nprobe = 15 # fix nprobe \n",
    "for k in 4 ** np.arange(3, 7): \n",
    "    coarse_quantization_cost = k\n",
    "    ivf_scanning_cost = nprobe / k * ns\n",
    "    pyplot.loglog(ns, coarse_quantization_cost + ivf_scanning_cost, label=f\"{k=:}\")\n",
    "pyplot.xlabel(\"database size\")\n",
    "pyplot.ylabel(\"nb distance computations\")\n",
    "pyplot.title(f\"search cost at {nprobe=:}\")\n",
    "pyplot.legend()\n",
    "pyplot.grid()"
   ]
  },
  {
   "cell_type": "markdown",
   "id": "49dec309",
   "metadata": {},
   "source": [
    "# Searching in compressed vectors "
   ]
  },
  {
   "cell_type": "code",
   "execution_count": null,
   "id": "db326b75",
   "metadata": {},
   "outputs": [],
   "source": [
    "# work on a smaller subset because otherwise we don't see anything with such small codes \n",
    "xb_small = xb[:1000]\n",
    "_, gt_small = faiss.knn(xq, xb_small, k=10)"
   ]
  },
  {
   "cell_type": "code",
   "execution_count": null,
   "id": "d6455720",
   "metadata": {},
   "outputs": [],
   "source": [
    "# compute codes for database = find the nearest centroid for each database vector \n",
    "encoding_errors, codes = faiss.knn(xb_small, centroids, k=1)"
   ]
  },
  {
   "cell_type": "code",
   "execution_count": null,
   "id": "eed66ff0",
   "metadata": {},
   "outputs": [],
   "source": [
    "codes.shape"
   ]
  },
  {
   "cell_type": "code",
   "execution_count": null,
   "id": "2e230786",
   "metadata": {},
   "outputs": [],
   "source": [
    "codes = codes.flatten()"
   ]
  },
  {
   "cell_type": "code",
   "execution_count": null,
   "id": "592cf1d6",
   "metadata": {},
   "outputs": [],
   "source": [
    "# reconstruct \n",
    "reconstructed_xb = centroids[codes]"
   ]
  },
  {
   "cell_type": "code",
   "execution_count": null,
   "id": "86b7e431",
   "metadata": {},
   "outputs": [],
   "source": [
    "MSE = ((reconstructed_xb - xb_small) ** 2).sum(1).mean()\n",
    "MSE"
   ]
  },
  {
   "cell_type": "markdown",
   "id": "6fa261cb",
   "metadata": {},
   "source": [
    "Similar but a bit worse than the training MSE "
   ]
  },
  {
   "cell_type": "code",
   "execution_count": null,
   "id": "ae1ab0ee",
   "metadata": {},
   "outputs": [],
   "source": [
    "# anothe way of computing it\n",
    "encoding_errors.mean()"
   ]
  },
  {
   "cell_type": "markdown",
   "id": "3c5bd736",
   "metadata": {},
   "source": [
    "## Asymmetric search"
   ]
  },
  {
   "cell_type": "code",
   "execution_count": null,
   "id": "1cee40e0",
   "metadata": {},
   "outputs": [],
   "source": [
    "found_dis, found_indices = faiss.knn(xq, reconstructed_xb, k=10)"
   ]
  },
  {
   "cell_type": "code",
   "execution_count": null,
   "id": "63737db3",
   "metadata": {},
   "outputs": [],
   "source": [
    "(gt_small[:, 0] == found_indices[:, 0]).sum() "
   ]
  },
  {
   "cell_type": "markdown",
   "id": "0be8a494",
   "metadata": {},
   "source": [
    "We loose 73% of nearest neighbors because the vectors are compressed a lot (12 bits). But note chance is at 1/1000 = 0.1%"
   ]
  },
  {
   "cell_type": "markdown",
   "id": "d1e78019",
   "metadata": {},
   "source": [
    "## Symmetric search "
   ]
  },
  {
   "cell_type": "code",
   "execution_count": null,
   "id": "e9ae2b9c",
   "metadata": {},
   "outputs": [],
   "source": [
    "# let's encode and decode the queries as well \n",
    "_, xq_codes = faiss.knn(xq, centroids, k=1)\n",
    "xq_codes = xq_codes.flatten()\n",
    "reconstructed_xq = centroids[xq_codes]"
   ]
  },
  {
   "cell_type": "code",
   "execution_count": null,
   "id": "f61bc16a",
   "metadata": {},
   "outputs": [],
   "source": [
    "found_dis, found_indices = faiss.knn(reconstructed_xq, reconstructed_xb, k=10)"
   ]
  },
  {
   "cell_type": "code",
   "execution_count": null,
   "id": "b4c98736",
   "metadata": {},
   "outputs": [],
   "source": [
    "(gt_small[:, 0] == found_indices[:, 0]).sum() "
   ]
  },
  {
   "cell_type": "markdown",
   "id": "c38a209e",
   "metadata": {},
   "source": [
    "Wow that's even worse"
   ]
  },
  {
   "cell_type": "markdown",
   "id": "415e294d",
   "metadata": {},
   "source": [
    "## Asymmetric search with look-up tables "
   ]
  },
  {
   "cell_type": "code",
   "execution_count": null,
   "id": "56f9ede7",
   "metadata": {},
   "outputs": [],
   "source": [
    "# recall reference results\n",
    "found_dis, found_indices = faiss.knn(xq, reconstructed_xb, k=10)"
   ]
  },
  {
   "cell_type": "code",
   "execution_count": null,
   "id": "94838b00",
   "metadata": {},
   "outputs": [],
   "source": [
    "# make look-up tables for all queries\n",
    "def pairwise_distances(A, B): \n",
    "    return (A ** 2).sum(1)[:, None] + (B ** 2).sum(1) - 2 * A @ B.T "
   ]
  },
  {
   "cell_type": "code",
   "execution_count": null,
   "id": "fbccc070",
   "metadata": {},
   "outputs": [],
   "source": [
    "LUT = pairwise_distances(xq, centroids)"
   ]
  },
  {
   "cell_type": "code",
   "execution_count": null,
   "id": "02a3fc04",
   "metadata": {},
   "outputs": [],
   "source": [
    "LUT.shape"
   ]
  },
  {
   "cell_type": "code",
   "execution_count": null,
   "id": "ea02f2d7",
   "metadata": {},
   "outputs": [],
   "source": [
    "codes.shape"
   ]
  },
  {
   "cell_type": "code",
   "execution_count": null,
   "id": "5f9ef31d",
   "metadata": {},
   "outputs": [],
   "source": [
    "distances = LUT[:, codes]"
   ]
  },
  {
   "cell_type": "code",
   "execution_count": null,
   "id": "678b9a5a",
   "metadata": {},
   "outputs": [],
   "source": [
    "distances.shape"
   ]
  },
  {
   "cell_type": "code",
   "execution_count": null,
   "id": "ecba60fb",
   "metadata": {},
   "outputs": [],
   "source": [
    "found_indices_2 = distances.argmin(axis=1)"
   ]
  },
  {
   "cell_type": "code",
   "execution_count": null,
   "id": "fc8f7d7d",
   "metadata": {},
   "outputs": [],
   "source": [
    "np.all(found_indices[:, 0] == found_indices_2)"
   ]
  },
  {
   "cell_type": "code",
   "execution_count": null,
   "id": "d6ac2963",
   "metadata": {},
   "outputs": [],
   "source": [
    "found_indices_2"
   ]
  },
  {
   "cell_type": "code",
   "execution_count": null,
   "id": "9f7c2514",
   "metadata": {},
   "outputs": [],
   "source": [
    "found_indices[:, 0]"
   ]
  },
  {
   "cell_type": "code",
   "execution_count": null,
   "id": "57aa95ea",
   "metadata": {},
   "outputs": [],
   "source": [
    "np.where(found_indices[:, 0] != found_indices_2)"
   ]
  },
  {
   "cell_type": "markdown",
   "id": "4e3c366e",
   "metadata": {},
   "source": [
    "# Product Quantization"
   ]
  },
  {
   "cell_type": "code",
   "execution_count": null,
   "id": "19ba01fc",
   "metadata": {},
   "outputs": [],
   "source": [
    "# 4 sub-vectors, encode each in 2^8 elements\n",
    "pq = faiss.ProductQuantizer(d, 4, 8)"
   ]
  },
  {
   "cell_type": "code",
   "execution_count": null,
   "id": "7865e4da",
   "metadata": {},
   "outputs": [],
   "source": [
    "pq.code_size   # in bytes, bits/8 rounded up to next integer"
   ]
  },
  {
   "cell_type": "code",
   "execution_count": null,
   "id": "21fb7138",
   "metadata": {},
   "outputs": [],
   "source": [
    "pq.train(xt)"
   ]
  },
  {
   "cell_type": "code",
   "execution_count": null,
   "id": "48543659",
   "metadata": {},
   "outputs": [],
   "source": [
    "xb_codes = pq.compute_codes(xb)"
   ]
  },
  {
   "cell_type": "code",
   "execution_count": null,
   "id": "0f6c3eac",
   "metadata": {},
   "outputs": [],
   "source": [
    "pq_reconstruction = pq.decode(xb_codes)"
   ]
  },
  {
   "cell_type": "code",
   "execution_count": null,
   "id": "84d2814e",
   "metadata": {},
   "outputs": [],
   "source": [
    "# compute the MSE\n",
    "((pq_reconstruction - xb) ** 2).sum(1).mean()"
   ]
  },
  {
   "cell_type": "markdown",
   "id": "a6f0a55e",
   "metadata": {},
   "source": [
    "Better MSE than the 12-bit k-means one"
   ]
  },
  {
   "cell_type": "markdown",
   "id": "0d71662c",
   "metadata": {},
   "source": [
    "## Manual reconstruction"
   ]
  },
  {
   "cell_type": "code",
   "execution_count": null,
   "id": "63ad6728",
   "metadata": {},
   "outputs": [],
   "source": [
    "from faiss.contrib.inspect_tools import get_pq_centroids, get_additive_quantizer_codebooks"
   ]
  },
  {
   "cell_type": "code",
   "execution_count": null,
   "id": "57b275a0",
   "metadata": {},
   "outputs": [],
   "source": [
    "pq_centroids = get_pq_centroids(pq)"
   ]
  },
  {
   "cell_type": "code",
   "execution_count": null,
   "id": "6d96cd6b",
   "metadata": {},
   "outputs": [],
   "source": [
    "pq_centroids.shape"
   ]
  },
  {
   "cell_type": "markdown",
   "id": "416f93e9",
   "metadata": {},
   "source": [
    "Layout: number of subvectors, K, subvector dimension"
   ]
  },
  {
   "cell_type": "code",
   "execution_count": null,
   "id": "9124a6e5",
   "metadata": {},
   "outputs": [],
   "source": [
    "xb_codes[:2]"
   ]
  },
  {
   "cell_type": "code",
   "execution_count": null,
   "id": "0d081828",
   "metadata": {},
   "outputs": [],
   "source": [
    "# reconstruct vector no 123 -- TODO implement the re-construction! \n",
    "xb123_recons = "
   ]
  },
  {
   "cell_type": "code",
   "execution_count": null,
   "id": "410d41d7",
   "metadata": {},
   "outputs": [],
   "source": [
    "np.all(pq_reconstruction[123] == xb123_recons)"
   ]
  },
  {
   "cell_type": "markdown",
   "id": "9fedac66",
   "metadata": {},
   "source": [
    "## Compare options for fixed code_size\n",
    "fix number of quantizers "
   ]
  },
  {
   "cell_type": "code",
   "execution_count": null,
   "id": "cde5f63d",
   "metadata": {},
   "outputs": [],
   "source": [
    "budget = 6  # budget 6 bytes per vector\n",
    "for M in 4, 8, 16: \n",
    "    nbits = budget * 8 // M\n",
    "    print(f\"PQ {M}x{nbits}\")\n",
    "    pq = faiss.ProductQuantizer(d, M, nbits)\n",
    "    print(f\"Sub-vector size {pq.dsub} K={pq.ksub} code size {pq.code_size}\")\n",
    "    pq.train(xt)\n",
    "    t0 = time.time()\n",
    "    pq_reconstruction = pq.decode(pq.compute_codes(xb))\n",
    "    t1 = time.time()\n",
    "    MSE = ((pq_reconstruction - xb) ** 2).sum(1).mean()\n",
    "    print(f\"{MSE=:.2f} encode-decode time: {(t1 - t0)*1000:.3f} ms\")"
   ]
  },
  {
   "cell_type": "markdown",
   "id": "aea675ce",
   "metadata": {},
   "source": [
    "## Optimized product quantization"
   ]
  },
  {
   "cell_type": "code",
   "execution_count": null,
   "id": "c6b8f7f1",
   "metadata": {},
   "outputs": [],
   "source": [
    "from faiss.contrib.inspect_tools import get_LinearTransform_matrix"
   ]
  },
  {
   "cell_type": "code",
   "execution_count": null,
   "id": "5eb63d88",
   "metadata": {},
   "outputs": [],
   "source": [
    "opq = faiss.OPQMatrix(d, 4)\n",
    "pq = faiss.ProductQuantizer(d, 4, 8)"
   ]
  },
  {
   "cell_type": "code",
   "execution_count": null,
   "id": "7f0e6e5c",
   "metadata": {},
   "outputs": [],
   "source": [
    "opq.train(xt)"
   ]
  },
  {
   "cell_type": "code",
   "execution_count": null,
   "id": "ae9913a3",
   "metadata": {},
   "outputs": [],
   "source": [
    "pq.train(opq.apply(xt))"
   ]
  },
  {
   "cell_type": "code",
   "execution_count": null,
   "id": "3afb9004",
   "metadata": {},
   "outputs": [],
   "source": [
    "xb_t = opq.apply(xb)"
   ]
  },
  {
   "cell_type": "code",
   "execution_count": null,
   "id": "038bcb8a",
   "metadata": {},
   "outputs": [],
   "source": [
    "xb_t_recons = pq.decode(pq.compute_codes(xb_t))"
   ]
  },
  {
   "cell_type": "code",
   "execution_count": null,
   "id": "6a855571",
   "metadata": {},
   "outputs": [],
   "source": [
    "((xb_t - xb_t_recons) ** 2).sum(1).mean()"
   ]
  },
  {
   "cell_type": "markdown",
   "id": "742355f8",
   "metadata": {},
   "source": [
    "The MSE for regular PQ was 13 --> improves"
   ]
  },
  {
   "cell_type": "code",
   "execution_count": null,
   "id": "fb17c49c",
   "metadata": {},
   "outputs": [],
   "source": [
    "A, bias = get_LinearTransform_matrix(opq)  # how to get the OPQ matrix"
   ]
  },
  {
   "cell_type": "code",
   "execution_count": null,
   "id": "155ac4a1",
   "metadata": {},
   "outputs": [],
   "source": [
    "A.shape"
   ]
  },
  {
   "cell_type": "markdown",
   "id": "b1d0ef83",
   "metadata": {},
   "source": [
    "## PQ in an index"
   ]
  },
  {
   "cell_type": "markdown",
   "id": "5f0c9f7f",
   "metadata": {},
   "source": [
    "A product quantizer with a search function (uses look-up tables)"
   ]
  },
  {
   "cell_type": "code",
   "execution_count": null,
   "id": "e7c2b2d2",
   "metadata": {},
   "outputs": [],
   "source": [
    "index = faiss.index_factory(d, \"PQ8x6np\")\n",
    "index.train(xt)\n",
    "index.add(xb)\n",
    "D, I = index.search(xq, 10)\n",
    "(I[:, 0] == gt[:, 0]).sum()"
   ]
  },
  {
   "cell_type": "code",
   "execution_count": null,
   "id": "93889500",
   "metadata": {},
   "outputs": [],
   "source": [
    "index = faiss.index_factory(d, \"OPQ4,PQ8x6np\")\n",
    "index.train(xt)\n",
    "index.add(xb)\n",
    "D, I = index.search(xq, 10)\n",
    "(I[:, 0] == gt[:, 0]).sum()"
   ]
  },
  {
   "cell_type": "markdown",
   "id": "ff3843b9",
   "metadata": {},
   "source": [
    "OPQ a bit better, but free at search time."
   ]
  },
  {
   "cell_type": "markdown",
   "id": "4930ab30",
   "metadata": {},
   "source": [
    "# Residual quantization"
   ]
  },
  {
   "cell_type": "code",
   "execution_count": null,
   "id": "cc11a1bf",
   "metadata": {},
   "outputs": [],
   "source": [
    "rq = faiss.ResidualQuantizer(d, 4, 8)"
   ]
  },
  {
   "cell_type": "code",
   "execution_count": null,
   "id": "19d003a0",
   "metadata": {},
   "outputs": [],
   "source": [
    "rq.max_beam_size "
   ]
  },
  {
   "cell_type": "code",
   "execution_count": null,
   "id": "170d394e",
   "metadata": {},
   "outputs": [],
   "source": [
    "%%time \n",
    "rq.train(xt[:50_000])"
   ]
  },
  {
   "cell_type": "code",
   "execution_count": null,
   "id": "5cdf572f",
   "metadata": {},
   "outputs": [],
   "source": [
    "xb_recons = rq.decode(rq.compute_codes(xb))\n",
    "((xb - xb_recons) ** 2).sum(1).mean()"
   ]
  },
  {
   "cell_type": "markdown",
   "id": "81566a1b",
   "metadata": {},
   "source": [
    "A bit better than OPQ"
   ]
  },
  {
   "cell_type": "code",
   "execution_count": null,
   "id": "37821ac8",
   "metadata": {},
   "outputs": [],
   "source": [
    "rq.max_beam_size = 50"
   ]
  },
  {
   "cell_type": "code",
   "execution_count": null,
   "id": "913e5caf",
   "metadata": {},
   "outputs": [],
   "source": [
    "%%time\n",
    "xb_recons = rq.decode(rq.compute_codes(xb))\n",
    "((xb - xb_recons) ** 2).sum(1).mean()"
   ]
  },
  {
   "cell_type": "markdown",
   "id": "b03a5f4a",
   "metadata": {},
   "source": [
    "Improves (slowly)"
   ]
  },
  {
   "cell_type": "markdown",
   "id": "857e79bf",
   "metadata": {},
   "source": [
    "# Search with additive quantizers"
   ]
  },
  {
   "cell_type": "code",
   "execution_count": null,
   "id": "6888cb5b",
   "metadata": {},
   "outputs": [],
   "source": [
    "index = faiss.index_factory(d, \"RQ8x6\")\n",
    "index.code_size"
   ]
  },
  {
   "cell_type": "code",
   "execution_count": null,
   "id": "09331ce1",
   "metadata": {},
   "outputs": [],
   "source": [
    "index.train(xt[:50_000])"
   ]
  },
  {
   "cell_type": "code",
   "execution_count": null,
   "id": "86e183da",
   "metadata": {},
   "outputs": [],
   "source": [
    "index.add(xb)\n",
    "D, I = index.search(xq, 10)\n",
    "(I[:, 0] == gt[:, 0]).sum()"
   ]
  },
  {
   "cell_type": "markdown",
   "id": "53b7af9e",
   "metadata": {},
   "source": [
    "Better than PQ & OPQ"
   ]
  },
  {
   "cell_type": "code",
   "execution_count": null,
   "id": "ddd9a100",
   "metadata": {},
   "outputs": [],
   "source": [
    "%timeit index.search(xq, 10)"
   ]
  },
  {
   "cell_type": "markdown",
   "id": "31faa0af",
   "metadata": {},
   "source": [
    "This is a search timing with decoding "
   ]
  },
  {
   "cell_type": "code",
   "execution_count": null,
   "id": "deab7f5e",
   "metadata": {},
   "outputs": [],
   "source": [
    "index = faiss.index_factory(d, \"RQ8x6_Nqint8\")\n",
    "index.code_size"
   ]
  },
  {
   "cell_type": "code",
   "execution_count": null,
   "id": "40cff484",
   "metadata": {},
   "outputs": [],
   "source": [
    "index.train(xt[:50_000])\n",
    "index.add(xb)\n",
    "D, I = index.search(xq, 10)\n",
    "(I[:, 0] == gt[:, 0]).sum()"
   ]
  },
  {
   "cell_type": "code",
   "execution_count": null,
   "id": "9daf0ba4",
   "metadata": {},
   "outputs": [],
   "source": [
    "%timeit index.search(xq, 10)"
   ]
  },
  {
   "cell_type": "markdown",
   "id": "ae050618",
   "metadata": {},
   "source": [
    "Same result but much faster (uses encoded norm) "
   ]
  },
  {
   "cell_type": "markdown",
   "id": "674563a7",
   "metadata": {},
   "source": [
    "# Scalar quantizers"
   ]
  },
  {
   "cell_type": "code",
   "execution_count": null,
   "id": "cafaafed",
   "metadata": {},
   "outputs": [],
   "source": [
    "for key in \"Flat\", \"SQfp16\", \"SQ8\", \"SQ6\", \"SQ4\", \"LSHrt\": \n",
    "    index = faiss.index_factory(d, key)\n",
    "    index.train(xt[:50_000])\n",
    "    index.add(xb)\n",
    "    D, I = index.search(xq, 10)\n",
    "    nfound = (I[:, 0] == gt[:, 0]).sum()\n",
    "    \n",
    "    print(f\"{key} {index.code_size=:} {nfound=:}\")"
   ]
  },
  {
   "cell_type": "markdown",
   "id": "886f7b1a",
   "metadata": {},
   "source": [
    "# Polysemous codes "
   ]
  },
  {
   "cell_type": "code",
   "execution_count": null,
   "id": "b7b97cf4",
   "metadata": {},
   "outputs": [],
   "source": [
    "index = faiss.index_factory(d, \"PQ8x8\") # omit the np"
   ]
  },
  {
   "cell_type": "code",
   "execution_count": null,
   "id": "72ef7542",
   "metadata": {},
   "outputs": [],
   "source": [
    "index.code_size"
   ]
  },
  {
   "cell_type": "code",
   "execution_count": null,
   "id": "10ef0e5d",
   "metadata": {},
   "outputs": [],
   "source": [
    "index.train(xt)\n",
    "index.add(xb)"
   ]
  },
  {
   "cell_type": "code",
   "execution_count": null,
   "id": "9debd581",
   "metadata": {},
   "outputs": [],
   "source": [
    "index.polysemous_ht  # threshold of binary code comparison -- default does not filter "
   ]
  },
  {
   "cell_type": "code",
   "execution_count": null,
   "id": "412b57eb",
   "metadata": {},
   "outputs": [],
   "source": [
    "D, I = index.search(xq, 10)\n",
    "(I[:, 0] == gt[:, 0]).sum()"
   ]
  },
  {
   "cell_type": "code",
   "execution_count": null,
   "id": "60336e65",
   "metadata": {},
   "outputs": [],
   "source": [
    "%timeit index.search(xq, 10)"
   ]
  },
  {
   "cell_type": "code",
   "execution_count": null,
   "id": "d0f73061",
   "metadata": {},
   "outputs": [],
   "source": [
    "index.search_type = faiss.IndexPQ.ST_polysemous\n",
    "index.polysemous_ht = 24\n",
    "D, I = index.search(xq, 10)\n",
    "(I[:, 0] == gt[:, 0]).sum()"
   ]
  },
  {
   "cell_type": "code",
   "execution_count": null,
   "id": "2b6ff69d",
   "metadata": {},
   "outputs": [],
   "source": [
    "%timeit index.search(xq, 10)"
   ]
  },
  {
   "cell_type": "markdown",
   "id": "9a03984a",
   "metadata": {},
   "source": [
    "About twice faster, same accuracy"
   ]
  },
  {
   "cell_type": "markdown",
   "id": "c7ccba6c",
   "metadata": {},
   "source": [
    "# IVFPQ index"
   ]
  },
  {
   "cell_type": "code",
   "execution_count": null,
   "id": "cea808f2",
   "metadata": {},
   "outputs": [],
   "source": [
    "index = faiss.index_factory(d, \"IVF200,PQ16x8np\") "
   ]
  },
  {
   "cell_type": "code",
   "execution_count": null,
   "id": "cc6a9584",
   "metadata": {},
   "outputs": [],
   "source": [
    "index.train(xt)"
   ]
  },
  {
   "cell_type": "code",
   "execution_count": null,
   "id": "e5ab2fdb",
   "metadata": {},
   "outputs": [],
   "source": [
    "index.add(xb)"
   ]
  },
  {
   "cell_type": "code",
   "execution_count": null,
   "id": "8102f0a9",
   "metadata": {},
   "outputs": [],
   "source": [
    "D, I = index.search(xq, 10)"
   ]
  },
  {
   "cell_type": "code",
   "execution_count": null,
   "id": "def2e3e2",
   "metadata": {},
   "outputs": [],
   "source": [
    "(I[:, 0] == gt[:, 0]).sum()"
   ]
  },
  {
   "cell_type": "code",
   "execution_count": null,
   "id": "43cb68b7",
   "metadata": {},
   "outputs": [],
   "source": [
    "index.nprobe "
   ]
  },
  {
   "cell_type": "code",
   "execution_count": null,
   "id": "dbc7d35c",
   "metadata": {},
   "outputs": [],
   "source": [
    "for nprobe in 2, 5, 10, 20, 50: \n",
    "    index.nprobe = nprobe \n",
    "    t0 = time.time()\n",
    "    for _ in range(50): \n",
    "        D, I = index.search(xq, 10)\n",
    "    t1 = time.time()\n",
    "    nok = (I[:, 0] == gt[:, 0]).sum()\n",
    "    print(f\"{nprobe=:} {nok=:} {(t1 - t0)*1000:.3f} ms\")"
   ]
  },
  {
   "cell_type": "markdown",
   "id": "c43314dc",
   "metadata": {},
   "source": [
    "## Fast-scan SIMD implementation"
   ]
  },
  {
   "cell_type": "code",
   "execution_count": null,
   "id": "d8842cd9",
   "metadata": {},
   "outputs": [],
   "source": [
    "index = faiss.index_factory(d, \"IVF200,PQ32x4fsr\") \n",
    "index.train(xt)\n",
    "index.add(xb)"
   ]
  },
  {
   "cell_type": "code",
   "execution_count": null,
   "id": "986b6a5c",
   "metadata": {},
   "outputs": [],
   "source": [
    "for nprobe in 2, 5, 10, 20, 50: \n",
    "    index.nprobe = nprobe \n",
    "    t0 = time.time()\n",
    "    for _ in range(50): \n",
    "        D, I = index.search(xq, 10)\n",
    "    t1 = time.time()\n",
    "    nok = (I[:, 0] == gt[:, 0]).sum()\n",
    "    print(f\"{nprobe=:} {nok=:} {(t1 - t0)*1000:.3f} ms\")"
   ]
  },
  {
   "cell_type": "code",
   "execution_count": null,
   "id": "3d9f505e",
   "metadata": {},
   "outputs": [],
   "source": []
  }
 ],
 "metadata": {
  "kernelspec": {
   "display_name": "Python 3 (ipykernel)",
   "language": "python",
   "name": "python3"
  },
  "language_info": {
   "codemirror_mode": {
    "name": "ipython",
    "version": 3
   },
   "file_extension": ".py",
   "mimetype": "text/x-python",
   "name": "python",
   "nbconvert_exporter": "python",
   "pygments_lexer": "ipython3",
   "version": "3.10.13"
  }
 },
 "nbformat": 4,
 "nbformat_minor": 5
}
